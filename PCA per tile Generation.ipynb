{
 "cells": [
  {
   "cell_type": "code",
   "execution_count": 5,
   "id": "d0c44286",
   "metadata": {},
   "outputs": [],
   "source": [
    "import numpy as np\n",
    "from PIL import Image\n",
    "import os\n",
    "import matplotlib.pyplot as plt\n",
    "from tqdm.notebook import tqdm\n",
    "os.chdir(r'D:\\spot-the-crop\\dataset\\ref_south_africa_crops_competition_v1_train_source_s1\\Process Image')\n",
    "import tifffile as tfl\n",
    "import glob as glob\n",
    "from sklearn.decomposition import PCA\n",
    "import pandas as pd\n",
    "\n",
    "%matplotlib inline\n"
   ]
  },
  {
   "cell_type": "code",
   "execution_count": 6,
   "id": "05bd78a7",
   "metadata": {},
   "outputs": [],
   "source": [
    "def extract_pixels(X):\n",
    "  q = X.reshape(-1, X.shape[2])\n",
    "  df = pd.DataFrame(data = q)\n",
    "  #df = pd.concat([df, pd.DataFrame(data = y.ravel())], axis=1)\n",
    "  df.columns= [f'band{i}' for i in range(1,1+X.shape[2])]\n",
    "  #df.to_csv('Dataset.csv')\n",
    "  return df"
   ]
  },
  {
   "cell_type": "code",
   "execution_count": null,
   "id": "d3a45830",
   "metadata": {},
   "outputs": [],
   "source": [
    "img =r'D:\\spot-the-crop\\dataset\\ref_south_africa_crops_competition_v1_train_source_s1\\Stack Images\\Stackref_south_africa_crops_competition_v1_train_source_s1_0001_2017_11_27predicted_image.tif'\n",
    "img = glob.glob(r\"D:\\spot-the-crop\\dataset\\ref_south_africa_crops_competition_v1_train_source_s1\\Stack Image Final/*.tif\")\n",
    "for i in tqdm(img):\n",
    "    image = tfl.imread(i)\n",
    "    #print(\"before reshape\",image.shape)\n",
    "    image=np.moveaxis(image,0,2)\n",
    "    #print(\"after reshaping\",image.shape)\n",
    "    df = extract_pixels(image)\n",
    "    pca = PCA(n_components = 3)\n",
    "    dt = pca.fit_transform(df.iloc[:, :-1].values)\n",
    "    dt = dt.reshape(256,256,3)\n",
    "    \n",
    "    im = tfl.imsave('D:/spot-the-crop/dataset/ref_south_africa_crops_competition_v1_train_source_s1/PCA/PCA'+str(i[140:]),dt)"
   ]
  },
  {
   "cell_type": "code",
   "execution_count": null,
   "id": "756c78f1",
   "metadata": {},
   "outputs": [],
   "source": []
  }
 ],
 "metadata": {
  "kernelspec": {
   "display_name": "Python 3",
   "language": "python",
   "name": "python3"
  },
  "language_info": {
   "codemirror_mode": {
    "name": "ipython",
    "version": 3
   },
   "file_extension": ".py",
   "mimetype": "text/x-python",
   "name": "python",
   "nbconvert_exporter": "python",
   "pygments_lexer": "ipython3",
   "version": "3.8.11"
  }
 },
 "nbformat": 4,
 "nbformat_minor": 5
}
