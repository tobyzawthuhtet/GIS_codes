{
 "cells": [
  {
   "cell_type": "code",
   "execution_count": 11,
   "metadata": {},
   "outputs": [],
   "source": [
    "import gdal\n",
    "import os\n",
    "import glob as glob\n",
    "import matplotlib.pyplot as plt\n",
    "from matplotlib.colors import ListedColormap"
   ]
  },
  {
   "cell_type": "code",
   "execution_count": 2,
   "metadata": {},
   "outputs": [],
   "source": [
    "os.chdir('D:\\Village Link\\SARVision_corndata')"
   ]
  },
  {
   "cell_type": "code",
   "execution_count": 35,
   "metadata": {},
   "outputs": [],
   "source": [
    "data = glob.glob('D:\\Village Link\\SARVision_corndata\\Shan South\\Moonsoon Corn ( Jun - Nov )\\Clip\\*.tif')"
   ]
  },
  {
   "cell_type": "code",
   "execution_count": 15,
   "metadata": {},
   "outputs": [
    {
     "data": {
      "text/plain": [
       "<matplotlib.image.AxesImage at 0x2659a046f70>"
      ]
     },
     "execution_count": 15,
     "metadata": {},
     "output_type": "execute_result"
    },
    {
     "data": {
      "image/png": "[encoded data removed]",
      "text/plain": [
       "<Figure size 432x288 with 1 Axes>"
      ]
     },
     "metadata": {
      "needs_background": "light"
     },
     "output_type": "display_data"
    }
   ],
   "source": [
    "band = img.ReadAsArray()\n",
    "plt.imshow(band)"
   ]
  },
  {
   "cell_type": "code",
   "execution_count": 16,
   "metadata": {},
   "outputs": [],
   "source": [
    "from osgeo import gdal,ogr"
   ]
  },
  {
   "cell_type": "code",
   "execution_count": 30,
   "metadata": {},
   "outputs": [
    {
     "name": "stdout",
     "output_type": "stream",
     "text": [
      "Hseni.shp\n",
      "Hsipaw.shp\n",
      "Kalaw.shp\n",
      "Kutkai.shp\n",
      "Kyaukme.shp\n",
      "Kyethi.shp\n",
      "Laihka.shp\n",
      "Langkho.shp\n",
      "Lashio.shp\n",
      "Lawksawk.shp\n",
      "Loilen.shp\n",
      "Mabein.shp\n",
      "Manton.shp\n",
      "Mawkmai.shp\n",
      "Mongkaing.shp\n",
      "Mongmit.shp\n",
      "Mongnai.shp\n",
      "Mongpan.shp\n",
      "Mongyai.shp\n",
      "Namhkan.shp\n",
      "Namhsan.shp\n",
      "Namtu.shp\n",
      "Nansang.shp\n",
      "Nawnghkio.shp\n",
      "Nyaungshwe.shp\n",
      "Pekon.shp\n",
      "Pindaya.shp\n",
      "Pinlaung.shp\n",
      "shan_states.shp\n",
      "Taunggyi.shp\n",
      "Ywangan.shp\n"
     ]
    }
   ],
   "source": [
    "shapefile = glob.glob(r'D:\\Village Link\\SARVision_corndata\\Shan South\\vector\\*.shp')\n",
    "for shp in shapefile:\n",
    "    print(shp[53:])\n"
   ]
  },
  {
   "cell_type": "code",
   "execution_count": 46,
   "metadata": {},
   "outputs": [
    {
     "data": {
      "text/plain": [
       "['D:\\\\Village Link\\\\SARVision_corndata\\\\Shan South\\\\Moonsoon Corn ( Jun - Nov )\\\\Clip\\\\SShanprojMMRGrowingStage6d_20200423_masked.tif',\n",
       " 'D:\\\\Village Link\\\\SARVision_corndata\\\\Shan South\\\\Moonsoon Corn ( Jun - Nov )\\\\Clip\\\\SShanprojMMRGrowingStage6d_20200429_masked.tif',\n",
       " 'D:\\\\Village Link\\\\SARVision_corndata\\\\Shan South\\\\Moonsoon Corn ( Jun - Nov )\\\\Clip\\\\SShanprojMMRGrowingStage6d_20200505_masked.tif',\n",
       " 'D:\\\\Village Link\\\\SARVision_corndata\\\\Shan South\\\\Moonsoon Corn ( Jun - Nov )\\\\Clip\\\\SShanprojMMRGrowingStage6d_20200511_masked.tif',\n",
       " 'D:\\\\Village Link\\\\SARVision_corndata\\\\Shan South\\\\Moonsoon Corn ( Jun - Nov )\\\\Clip\\\\SShanprojMMRGrowingStage6d_20200517_masked.tif',\n",
       " 'D:\\\\Village Link\\\\SARVision_corndata\\\\Shan South\\\\Moonsoon Corn ( Jun - Nov )\\\\Clip\\\\SShanprojMMRGrowingStage6d_20200523_masked.tif',\n",
       " 'D:\\\\Village Link\\\\SARVision_corndata\\\\Shan South\\\\Moonsoon Corn ( Jun - Nov )\\\\Clip\\\\SShanprojMMRGrowingStage6d_20200529_masked.tif',\n",
       " 'D:\\\\Village Link\\\\SARVision_corndata\\\\Shan South\\\\Moonsoon Corn ( Jun - Nov )\\\\Clip\\\\SShanprojMMRGrowingStage6d_20200604_masked.tif',\n",
       " 'D:\\\\Village Link\\\\SARVision_corndata\\\\Shan South\\\\Moonsoon Corn ( Jun - Nov )\\\\Clip\\\\SShanprojMMRGrowingStage6d_20200610_masked.tif',\n",
       " 'D:\\\\Village Link\\\\SARVision_corndata\\\\Shan South\\\\Moonsoon Corn ( Jun - Nov )\\\\Clip\\\\SShanprojMMRGrowingStage6d_20200616_masked.tif',\n",
       " 'D:\\\\Village Link\\\\SARVision_corndata\\\\Shan South\\\\Moonsoon Corn ( Jun - Nov )\\\\Clip\\\\SShanprojMMRGrowingStage6d_20200622_masked.tif',\n",
       " 'D:\\\\Village Link\\\\SARVision_corndata\\\\Shan South\\\\Moonsoon Corn ( Jun - Nov )\\\\Clip\\\\SShanprojMMRGrowingStage6d_20200628_masked.tif',\n",
       " 'D:\\\\Village Link\\\\SARVision_corndata\\\\Shan South\\\\Moonsoon Corn ( Jun - Nov )\\\\Clip\\\\SShanprojMMRGrowingStage6d_20200704_masked.tif',\n",
       " 'D:\\\\Village Link\\\\SARVision_corndata\\\\Shan South\\\\Moonsoon Corn ( Jun - Nov )\\\\Clip\\\\SShanprojMMRGrowingStage6d_20200710_masked.tif',\n",
       " 'D:\\\\Village Link\\\\SARVision_corndata\\\\Shan South\\\\Moonsoon Corn ( Jun - Nov )\\\\Clip\\\\SShanprojMMRGrowingStage6d_20200716_masked.tif',\n",
       " 'D:\\\\Village Link\\\\SARVision_corndata\\\\Shan South\\\\Moonsoon Corn ( Jun - Nov )\\\\Clip\\\\SShanprojMMRGrowingStage6d_20200722_masked.tif',\n",
       " 'D:\\\\Village Link\\\\SARVision_corndata\\\\Shan South\\\\Moonsoon Corn ( Jun - Nov )\\\\Clip\\\\SShanprojMMRGrowingStage6d_20200728_masked.tif',\n",
       " 'D:\\\\Village Link\\\\SARVision_corndata\\\\Shan South\\\\Moonsoon Corn ( Jun - Nov )\\\\Clip\\\\SShanprojMMRGrowingStage6d_20200803_masked.tif',\n",
       " 'D:\\\\Village Link\\\\SARVision_corndata\\\\Shan South\\\\Moonsoon Corn ( Jun - Nov )\\\\Clip\\\\SShanprojMMRGrowingStage6d_20200809_masked.tif',\n",
       " 'D:\\\\Village Link\\\\SARVision_corndata\\\\Shan South\\\\Moonsoon Corn ( Jun - Nov )\\\\Clip\\\\SShanprojMMRGrowingStage6d_20200815_masked.tif',\n",
       " 'D:\\\\Village Link\\\\SARVision_corndata\\\\Shan South\\\\Moonsoon Corn ( Jun - Nov )\\\\Clip\\\\SShanprojMMRGrowingStage6d_20200821_masked.tif',\n",
       " 'D:\\\\Village Link\\\\SARVision_corndata\\\\Shan South\\\\Moonsoon Corn ( Jun - Nov )\\\\Clip\\\\SShanprojMMRGrowingStage6d_20200827_masked.tif',\n",
       " 'D:\\\\Village Link\\\\SARVision_corndata\\\\Shan South\\\\Moonsoon Corn ( Jun - Nov )\\\\Clip\\\\SShanprojMMRGrowingStage6d_20200902_masked.tif',\n",
       " 'D:\\\\Village Link\\\\SARVision_corndata\\\\Shan South\\\\Moonsoon Corn ( Jun - Nov )\\\\Clip\\\\SShanprojMMRGrowingStage6d_20200908_masked.tif',\n",
       " 'D:\\\\Village Link\\\\SARVision_corndata\\\\Shan South\\\\Moonsoon Corn ( Jun - Nov )\\\\Clip\\\\SShanprojMMRGrowingStage6d_20200914_masked.tif',\n",
       " 'D:\\\\Village Link\\\\SARVision_corndata\\\\Shan South\\\\Moonsoon Corn ( Jun - Nov )\\\\Clip\\\\SShanprojMMRGrowingStage6d_20200920_masked.tif',\n",
       " 'D:\\\\Village Link\\\\SARVision_corndata\\\\Shan South\\\\Moonsoon Corn ( Jun - Nov )\\\\Clip\\\\SShanprojMMRGrowingStage6d_20200926_masked.tif',\n",
       " 'D:\\\\Village Link\\\\SARVision_corndata\\\\Shan South\\\\Moonsoon Corn ( Jun - Nov )\\\\Clip\\\\SShanprojMMRGrowingStage6d_20201002_masked.tif',\n",
       " 'D:\\\\Village Link\\\\SARVision_corndata\\\\Shan South\\\\Moonsoon Corn ( Jun - Nov )\\\\Clip\\\\SShanprojMMRGrowingStage6d_20201008_masked.tif',\n",
       " 'D:\\\\Village Link\\\\SARVision_corndata\\\\Shan South\\\\Moonsoon Corn ( Jun - Nov )\\\\Clip\\\\SShanprojMMRGrowingStage6d_20201014_masked.tif',\n",
       " 'D:\\\\Village Link\\\\SARVision_corndata\\\\Shan South\\\\Moonsoon Corn ( Jun - Nov )\\\\Clip\\\\SShanprojMMRGrowingStage6d_20201020_masked.tif',\n",
       " 'D:\\\\Village Link\\\\SARVision_corndata\\\\Shan South\\\\Moonsoon Corn ( Jun - Nov )\\\\Clip\\\\SShanprojMMRGrowingStage6d_20201026_masked.tif',\n",
       " 'D:\\\\Village Link\\\\SARVision_corndata\\\\Shan South\\\\Moonsoon Corn ( Jun - Nov )\\\\Clip\\\\SShanprojMMRGrowingStage6d_20201101_masked.tif',\n",
       " 'D:\\\\Village Link\\\\SARVision_corndata\\\\Shan South\\\\Moonsoon Corn ( Jun - Nov )\\\\Clip\\\\SShanprojMMRGrowingStage6d_20201107_masked.tif',\n",
       " 'D:\\\\Village Link\\\\SARVision_corndata\\\\Shan South\\\\Moonsoon Corn ( Jun - Nov )\\\\Clip\\\\SShanprojMMRGrowingStage6d_20201113_masked.tif',\n",
       " 'D:\\\\Village Link\\\\SARVision_corndata\\\\Shan South\\\\Moonsoon Corn ( Jun - Nov )\\\\Clip\\\\SShanprojMMRGrowingStage6d_20201119_masked.tif',\n",
       " 'D:\\\\Village Link\\\\SARVision_corndata\\\\Shan South\\\\Moonsoon Corn ( Jun - Nov )\\\\Clip\\\\SShanprojMMRGrowingStage6d_20201125_masked.tif']"
      ]
     },
     "execution_count": 46,
     "metadata": {},
     "output_type": "execute_result"
    }
   ],
   "source": [
    "data"
   ]
  },
  {
   "cell_type": "code",
   "execution_count": null,
   "metadata": {},
   "outputs": [],
   "source": [
    "for shp in shapefile:\n",
    "    for i in data:\n",
    "    #print(\"found data =\",i)\n",
    "        img= gdal.Open(i)\n",
    "        band = img.ReadAsArray()\n",
    "        options = gdal.WarpOptions(cutlineDSName=shp ,cropToCutline=True)\n",
    "        \n",
    "        output = gdal.Warp(srcDSOrSrcDSTab= img ,\n",
    "                        destNameOrDestDS=outputPath +shp[53:]+'clip',\n",
    "                        options=options)"
   ]
  },
  {
   "cell_type": "code",
   "execution_count": 48,
   "metadata": {},
   "outputs": [],
   "source": [
    "outputPath ='D:\\Village Link\\SARVision_corndata\\Shan South\\clip'"
   ]
  },
  {
   "cell_type": "code",
   "execution_count": 49,
   "metadata": {},
   "outputs": [
    {
     "data": {
      "text/plain": [
       "'D:\\\\Village Link\\\\SARVision_corndata\\\\Shan South\\\\clip'"
      ]
     },
     "execution_count": 49,
     "metadata": {},
     "output_type": "execute_result"
    }
   ],
   "source": [
    "outputPath"
   ]
  },
  {
   "cell_type": "code",
   "execution_count": 1,
   "metadata": {},
   "outputs": [],
   "source": [
    "import fiona"
   ]
  },
  {
   "cell_type": "code",
   "execution_count": 2,
   "metadata": {},
   "outputs": [],
   "source": [
    "import rasterio\n",
    "import rasterio.mask\n",
    "import glob as glob"
   ]
  },
  {
   "cell_type": "code",
   "execution_count": 6,
   "metadata": {},
   "outputs": [],
   "source": [
    "with fiona.open(r\"D:\\Village Link\\SARVision_corndata\\Shan South\\vector\\proj\\Mawkmai.shp\") as shapefile:\n",
    "    shapes = [feature[\"geometry\"]for feature in shapefile]"
   ]
  },
  {
   "cell_type": "code",
   "execution_count": 7,
   "metadata": {},
   "outputs": [],
   "source": [
    "with rasterio.open(r\"D:\\Village Link\\SARVision_corndata\\Shan South\\Moonsoon Corn ( Jun - Nov )\\Clip\\SShanprojMMRGrowingStage6d_20200423_masked.tif\") as src:\n",
    "    out_image,out_transform= rasterio.mask.mask(src,shapes,crop =True)\n",
    "    out_meta=src.meta\n",
    "    \n",
    "\n",
    "    "
   ]
  },
  {
   "cell_type": "code",
   "execution_count": 11,
   "metadata": {},
   "outputs": [],
   "source": [
    "out_meta.update({\"driver\": \"GTiff\",\n",
    "                 \"height\": out_image.shape[1],\n",
    "                 \"width\": out_image.shape[2],\n",
    "                 \"transform\": out_transform})"
   ]
  },
  {
   "cell_type": "code",
   "execution_count": 12,
   "metadata": {},
   "outputs": [],
   "source": [
    "with rasterio.open(\"RGB.byte.masked.tif\", \"w\", **out_meta) as dest:\n",
    "    dest.write(out_image)"
   ]
  },
  {
   "cell_type": "code",
   "execution_count": 16,
   "metadata": {},
   "outputs": [],
   "source": [
    "import matplotlib.pyplot as plt"
   ]
  },
  {
   "cell_type": "code",
   "execution_count": 90,
   "metadata": {},
   "outputs": [],
   "source": [
    "shapefile = glob.glob(r\"D:\\Village Link\\SARVision_corndata\\Shan South\\vector\\proj\\*.shp\")\n",
    "data = glob.glob(\"D:\\Village Link\\SARVision_corndata\\Shan South\\Moonsoon Corn ( Jun - Nov )\\Clip\\*.tif\")\n",
    "for j in data:\n",
    "    for i in shapefile:\n",
    "        with fiona.open(i) as shp:\n",
    "            shapes = [feature[\"geometry\"]for feature in shp]\n",
    "        with rasterio.open(j) as src:\n",
    "            out_image,out_transform= rasterio.mask.mask(src,shapes,crop =True)\n",
    "            out_meta=src.meta\n",
    "            \n",
    "            out_meta.update({\"driver\": \"GTiff\",\n",
    "                 \"height\": out_image.shape[1],\n",
    "                 \"width\": out_image.shape[2],\n",
    "                 \"transform\": out_transform})\n",
    "            \n",
    "        with rasterio.open(\"D:\\Village Link\\SARVision_corndata\\Shan South\\clip\\masked\"+str(i[58:-4])+\"_\"+str(j[106:114])+\".tif\", \"w\", **out_meta) as dest:\n",
    "            dest.write(out_image)\n",
    "            \n",
    "          \n",
    "    \n",
    "    \n",
    "\n",
    "    \n"
   ]
  },
  {
   "cell_type": "code",
   "execution_count": 89,
   "metadata": {},
   "outputs": [
    {
     "name": "stdout",
     "output_type": "stream",
     "text": [
      "Hseni\n",
      "Hsipaw\n",
      "Kalaw\n",
      "Kutkai\n",
      "Kyaukme\n",
      "Kyethi\n",
      "Laihka\n",
      "Langkho\n",
      "Lashio\n",
      "Lawksawk\n",
      "Loilen\n",
      "Mabein\n",
      "Manton\n",
      "Mawkmai\n",
      "Mongkaing\n",
      "Mongmit\n",
      "Mongnai\n",
      "Mongpan\n",
      "Mongyai\n",
      "Namhkan\n",
      "Namhsan\n",
      "Namtu\n",
      "Nansang\n",
      "Nawnghkio\n",
      "Nyaungshwe\n",
      "Pekon\n",
      "Pindaya\n",
      "Pinlaung\n",
      "shan_states\n",
      "Taunggyi\n",
      "Ywangan\n"
     ]
    }
   ],
   "source": [
    "for j in shapefile:\n",
    "    #print(j[58:65])\n",
    "    print(j[58:-4])"
   ]
  },
  {
   "cell_type": "code",
   "execution_count": null,
   "metadata": {},
   "outputs": [],
   "source": []
  }
 ],
 "metadata": {
  "kernelspec": {
   "display_name": "Python 3",
   "language": "python",
   "name": "python3"
  },
  "language_info": {
   "codemirror_mode": {
    "name": "ipython",
    "version": 3
   },
   "file_extension": ".py",
   "mimetype": "text/x-python",
   "name": "python",
   "nbconvert_exporter": "python",
   "pygments_lexer": "ipython3",
   "version": "3.8.5"
  }
 },
 "nbformat": 4,
 "nbformat_minor": 4
}
