{
 "cells": [
  {
   "cell_type": "markdown",
   "id": "582cc93c",
   "metadata": {},
   "source": [
    "# Creating High Resolution Satellite Images using Mapbox "
   ]
  },
  {
   "cell_type": "markdown",
   "id": "6cafffc1",
   "metadata": {},
   "source": [
    "source : https://towardsdatascience.com/creating-high-resolution-satellite-images-with-mapbox-and-python-750b3ac83dd7"
   ]
  },
  {
   "cell_type": "markdown",
   "id": "f3ef1eb8",
   "metadata": {},
   "source": [
    "Done by Toby Zaw "
   ]
  },
  {
   "cell_type": "code",
   "execution_count": 1,
   "id": "85724111",
   "metadata": {},
   "outputs": [],
   "source": [
    "import mercantile\n",
    "from PIL import Image\n",
    "import matplotlib.pyplot as plt\n",
    "import numpy as np\n",
    "import requests \n",
    "import shutil\n",
    "from tqdm.notebook import tqdm\n",
    "%matplotlib inline"
   ]
  },
  {
   "cell_type": "markdown",
   "id": "60a58db7",
   "metadata": {},
   "source": [
    "## Import your latitude and longitude"
   ]
  },
  {
   "cell_type": "code",
   "execution_count": 2,
   "id": "ff5e9f2c",
   "metadata": {},
   "outputs": [],
   "source": [
    "#Converting form Lat/Lng to tilesets\n",
    "\n",
    "lat_lng = [16.8409, 96.1735]"
   ]
  },
  {
   "cell_type": "code",
   "execution_count": 49,
   "id": "9d57570a",
   "metadata": {},
   "outputs": [],
   "source": [
    "delta=0.001\n",
    "tl = [lat_lng[0]+delta, lat_lng[1]-delta]\n",
    "br = [lat_lng[0]-delta, lat_lng[1]+delta]\n",
    "z = 17# Set the resolution (max at 15)"
   ]
  },
  {
   "cell_type": "code",
   "execution_count": 50,
   "id": "01924155",
   "metadata": {},
   "outputs": [
    {
     "name": "stdout",
     "output_type": "stream",
     "text": [
      "top left : [16.841900000000003, 96.1725]\n",
      "bottom right [16.8399, 96.17450000000001]\n"
     ]
    }
   ],
   "source": [
    "print('top left :',tl)\n",
    "print('bottom right',br)\n"
   ]
  },
  {
   "cell_type": "code",
   "execution_count": 51,
   "id": "d28f4be1",
   "metadata": {},
   "outputs": [
    {
     "name": "stdout",
     "output_type": "stream",
     "text": [
      "[100551, 100552]\n",
      "[59313, 59314]\n"
     ]
    }
   ],
   "source": [
    "import mercantile\n",
    "tl_tiles = mercantile.tile(tl[1],tl[0],z)\n",
    "br_tiles = mercantile.tile(br[1],br[0],z)\n",
    "\n",
    "x_tile_range = [tl_tiles.x,br_tiles.x];print(x_tile_range)\n",
    "y_tile_range = [tl_tiles.y,br_tiles.y];print(y_tile_range)"
   ]
  },
  {
   "cell_type": "code",
   "execution_count": 53,
   "id": "fc0b089a",
   "metadata": {},
   "outputs": [
    {
     "data": {
      "application/vnd.jupyter.widget-view+json": {
       "model_id": "b1016e8481ed496ba63f025ad4d1e47b",
       "version_major": 2,
       "version_minor": 0
      },
      "text/plain": [
       "0it [00:00, ?it/s]"
      ]
     },
     "metadata": {},
     "output_type": "display_data"
    },
    {
     "data": {
      "application/vnd.jupyter.widget-view+json": {
       "model_id": "ece2fb1a4d7d4c6b87a09b1c1742c19f",
       "version_major": 2,
       "version_minor": 0
      },
      "text/plain": [
       "0it [00:00, ?it/s]"
      ]
     },
     "metadata": {},
     "output_type": "display_data"
    },
    {
     "data": {
      "application/vnd.jupyter.widget-view+json": {
       "model_id": "bb9bd88059a543e0869286051ee342bf",
       "version_major": 2,
       "version_minor": 0
      },
      "text/plain": [
       "0it [00:00, ?it/s]"
      ]
     },
     "metadata": {},
     "output_type": "display_data"
    }
   ],
   "source": [
    "import requests # The requests package allows use to call URLS\n",
    "import shutil   # shutil will be used to copy the image to the local\n",
    "# Loop over the tile ranges\n",
    "for i,x in tqdm(enumerate(range(x_tile_range[0],x_tile_range[1]+1))):\n",
    "      for j,y in tqdm(enumerate(range(y_tile_range[0],y_tile_range[1]+1))):\n",
    "            # Call the URL to get the image backr = requests.get('https://api.mapbox.com/v4/mapbox.terrain-\n",
    "            r = requests.get('https://api.mapbox.com/v4/mapbox.terrain-rgb/'+str(z)+'/'+str(x)+'/'+str(y)+'@2x.pngraw?access_token=pk.eyJ1IjoidG9ieXphd3RodWh0ZXQiLCJhIjoiY2t1MnF6bjdoMHNsbTJwcWhpYWZjZWxpciJ9.lMU2n-qA9stK2C0v32rBFQ', stream=True)\n",
    "            # Next we will write the raw content to an image\n",
    "            with open('C:/Users/Toby/Desktop/New folder/Mapbox/elevation_images/' + str(i) + '.' + str(j) + '.png','wb') as f:\n",
    "                r.raw.decode_content = True\n",
    "                shutil.copyfileobj(r.raw, f) \n",
    "                # Do the same for the satellite data\n",
    "                r =requests.get('https://api.mapbox.com/v4/mapbox.satellite/'+str(z)+'/'+str(x)+'/'+str(y)+'@2x.pngraw?access_token=pk.eyJ1IjoidG9ieXphd3RodWh0ZXQiLCJhIjoiY2t1MnF6bjdoMHNsbTJwcWhpYWZjZWxpciJ9.lMU2n-qA9stK2C0v32rBFQ', stream=True)\n",
    "            with open('C:/Users/Toby/Desktop/New folder/Mapbox/satellite_images/' + str(i) + '.' + str(j) + '.png','wb') as f:\n",
    "                r.raw.decode_content = True\n",
    "                shutil.copyfileobj(r.raw, f)"
   ]
  },
  {
   "cell_type": "code",
   "execution_count": 48,
   "id": "ffd5fe7d",
   "metadata": {},
   "outputs": [
    {
     "name": "stdout",
     "output_type": "stream",
     "text": [
      "x edge length 1\n",
      "y edge length 0\n",
      "total width 512\n",
      "total height 512\n",
      "x edge length 1\n",
      "y edge length 0\n",
      "total width 512\n",
      "total height 512\n"
     ]
    }
   ],
   "source": [
    "# Import the image, math and os libraries\n",
    "import PIL\n",
    "import math\n",
    "from os import listdir\n",
    "from os.path import isfile, join\n",
    "# Loop over the elevation and satellite image set\n",
    "for img_name in ['elevation','satellite']:\n",
    "    # Make a list of the image names   \n",
    "    image_files = ['C:/Users/Toby/Desktop/New folder/Mapbox/'+img_name+'_images/' + f for f in listdir('C:/Users/Toby/Desktop/New folder/Mapbox/'+img_name+'_images/')]\n",
    "    # Open the image set using pillow\n",
    "    images = [PIL.Image.open(x) for x in image_files]\n",
    "    # Calculate the number of image tiles in each direction\n",
    "    edge_length_x = x_tile_range[1] - x_tile_range[0]\n",
    "    #print('x edge length',edge_length_x)\n",
    "    edge_length_y = y_tile_range[1] - y_tile_range[0]\n",
    "    #print('y edge length',edge_length_y)\n",
    "    edge_length_x = max(1,edge_length_x)\n",
    "    edge_length_y = max(1,edge_length_y)\n",
    "    # Find the final composed image dimensions  \n",
    "    width, height = images[0].size\n",
    "    total_width = width*edge_length_x\n",
    "    total_height = height*edge_length_y\n",
    "    #print('total width',total_width)\n",
    "    #print('total height', total_height)\n",
    "    # Create a new blank image we will fill in\n",
    "    composite = PIL.Image.new('RGB', (total_width, total_height))\n",
    "    # Loop over the x and y ranges\n",
    "    y_offset = 0\n",
    "    for i in range(0,edge_length_x):\n",
    "        x_offset = 0\n",
    "    for j in range(0,edge_length_y):\n",
    "        # Open up the image file and paste it into the composed image at the given offset position\n",
    "        tmp_img = PIL.Image.open('C:/Users/Toby/Desktop/New folder/Mapbox/'+img_name+'_images/' + str(i) +'.' + str(j) + '.png')\n",
    "        composite.paste(tmp_img, (y_offset,x_offset))\n",
    "        x_offset += width # Update the width\n",
    "        y_offset += height # Update the height\n",
    "# Save the final image\n",
    "composite.save('C:/Users/Toby/Desktop/New folder/Mapbox/composite_images/'+img_name+'.png')"
   ]
  },
  {
   "cell_type": "code",
   "execution_count": null,
   "id": "e8fab8fd",
   "metadata": {},
   "outputs": [],
   "source": []
  }
 ],
 "metadata": {
  "kernelspec": {
   "display_name": "Python 3",
   "language": "python",
   "name": "python3"
  },
  "language_info": {
   "codemirror_mode": {
    "name": "ipython",
    "version": 3
   },
   "file_extension": ".py",
   "mimetype": "text/x-python",
   "name": "python",
   "nbconvert_exporter": "python",
   "pygments_lexer": "ipython3",
   "version": "3.8.11"
  }
 },
 "nbformat": 4,
 "nbformat_minor": 5
}
